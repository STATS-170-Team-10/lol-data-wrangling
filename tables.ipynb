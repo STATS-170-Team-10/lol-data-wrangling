{
 "cells": [
  {
   "cell_type": "code",
   "execution_count": 27,
   "metadata": {},
   "outputs": [],
   "source": [
    "import pandas as pd"
   ]
  },
  {
   "cell_type": "code",
   "execution_count": 28,
   "metadata": {},
   "outputs": [],
   "source": [
    "df = pd.read_csv('data/1016version.csv')"
   ]
  },
  {
   "cell_type": "code",
   "execution_count": 29,
   "metadata": {},
   "outputs": [],
   "source": [
    "t1_champs = df[['t1_win', 't1p1_champId', 't1p2_champId', 't1p3_champId', 't1p4_champId', 't1p5_champId']]\n",
    "t2_champs = df[['t1_win', 't2p1_champId', 't2p2_champId', 't2p3_champId', 't2p4_champId', 't2p5_champId']]\n",
    "\n",
    "t1_champs.columns = ['t1_win', 'champId1', 'champId2', 'champId3', 'champId4', 'champId5']\n",
    "t2_champs.columns = ['t1_win', 'champId1', 'champId2', 'champId3', 'champId4', 'champId5']\n",
    "\n",
    "champs = pd.concat([t1_champs, t2_champs])\n",
    "champs = champs.melt(id_vars=['t1_win'], value_vars=['champId1', 'champId2', 'champId3', 'champId4', 'champId5'], var_name='Player', value_name='champId')\n",
    "\n",
    "champions = champs.groupby(['champId']).agg({'t1_win': ['count', 'sum']})\n",
    "champions.columns = ['Appearances', 'Wins']\n",
    "\n",
    "# Calculate the win rate for each champion\n",
    "champions['Win_Rate'] = champions['Wins'] / champions['Appearances']\n",
    "\n",
    "champions = champions.reset_index()\n",
    "champions.to_csv('data/table1.csv', index=False)\n"
   ]
  }
 ],
 "metadata": {
  "kernelspec": {
   "display_name": "optidraft",
   "language": "python",
   "name": "python3"
  },
  "language_info": {
   "codemirror_mode": {
    "name": "ipython",
    "version": 3
   },
   "file_extension": ".py",
   "mimetype": "text/x-python",
   "name": "python",
   "nbconvert_exporter": "python",
   "pygments_lexer": "ipython3",
   "version": "3.10.10"
  },
  "orig_nbformat": 4
 },
 "nbformat": 4,
 "nbformat_minor": 2
}
